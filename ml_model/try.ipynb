{
 "cells": [
  {
   "cell_type": "code",
   "execution_count": 16,
   "metadata": {},
   "outputs": [
    {
     "name": "stderr",
     "output_type": "stream",
     "text": [
      "[nltk_data] Downloading package stopwords to\n",
      "[nltk_data]     C:\\Users\\A\\AppData\\Roaming\\nltk_data...\n",
      "[nltk_data]   Package stopwords is already up-to-date!\n",
      "[nltk_data] Downloading package punkt to\n",
      "[nltk_data]     C:\\Users\\A\\AppData\\Roaming\\nltk_data...\n",
      "[nltk_data]   Package punkt is already up-to-date!\n"
     ]
    },
    {
     "name": "stdout",
     "output_type": "stream",
     "text": [
      "[12]\n",
      "HR\n",
      "[[0.06398762 0.06628013 0.04615241 0.02731243 0.03611351 0.0263248\n",
      "  0.05428685 0.04032049 0.07847511 0.02392916 0.02180677 0.02360082\n",
      "  0.11219132 0.02126309 0.0314798  0.07822444 0.03160011 0.0154406\n",
      "  0.02163602 0.01435244 0.03118754 0.03032284 0.02786835 0.05544513\n",
      "  0.02039824]]\n"
     ]
    }
   ],
   "source": [
    "import joblib\n",
    "from scipy.sparse import hstack\n",
    "from sklearn.feature_extraction.text import TfidfVectorizer\n",
    "from sklearn.model_selection import train_test_split\n",
    "import re\n",
    "from sklearn.preprocessing import LabelEncoder\n",
    "from wordcloud import WordCloud\n",
    "import string\n",
    "from nltk.corpus import stopwords\n",
    "import nltk\n",
    "from sklearn.multiclass import OneVsRestClassifier\n",
    "from sklearn.naive_bayes import MultinomialNB\n",
    "from sklearn.neighbors import KNeighborsClassifier\n",
    "from pandas.plotting import scatter_matrix\n",
    "from sklearn.metrics import accuracy_score\n",
    "from sklearn import metrics\n",
    "import pandas as pd\n",
    "import numpy as np\n",
    "import pandas as pd\n",
    "import os\n",
    "import seaborn as sns\n",
    "import warnings\n",
    "warnings.filterwarnings('ignore')\n",
    "nltk.download('stopwords')\n",
    "nltk.download('punkt')\n",
    "\n",
    "\n",
    "resumeData = pd.read_csv('UpdatedResumeDataSet.csv', encoding='utf-8')\n",
    "\n",
    "\n",
    "dict_job = {\n",
    "    \"Data Science\":  6,\n",
    "    \"HR\": 12,\n",
    "    \"Advocate\":  0,\n",
    "    \"Arts\":  1,\n",
    "    \"Web Designing\": 24,\n",
    "    \"Mechanical Engineer\": 16,\n",
    "    \"Sales\": 22,\n",
    "    \"Health and fitness\": 14,\n",
    "    \"Civil Engineer\":  5,\n",
    "    \"Java Developer\": 15,\n",
    "    \"Business Analyst\":  4,\n",
    "    \"SAP Developer\": 21,\n",
    "    \"Automation Testing\":  2,\n",
    "    \"Electrical Engineering\": 11,\n",
    "    \"Operations Manager\": 18,\n",
    "    \"Python Developer\": 20,\n",
    "    \"DevOps Engineer\":  8,\n",
    "    \"Network Security Engineer\": 17,\n",
    "    \"PMO\": 19,\n",
    "    \"Database\":  7,\n",
    "    \"Hadoop\": 13,\n",
    "    \"ETL Developer\": 10,\n",
    "    \"DotNet Developer\":  9,\n",
    "    \"Blockchain\":  3,\n",
    "    \"Testing\": 23\n",
    "\n",
    "}\n",
    "\n",
    "\n",
    "\n",
    "var_mod = ['Category']\n",
    "le = LabelEncoder()\n",
    "for i in var_mod:\n",
    "    resumeData[i] = le.fit_transform(resumeData[i])\n",
    "\n",
    "\n",
    "inp_data = input(\"Enter resume: \")\n",
    "data = {\"Resume\": [inp_data]}\n",
    "dataf = pd.DataFrame(data)\n",
    "dataf['structured_resume'] = ''\n",
    "\n",
    "\n",
    "def clean_resume(Text):\n",
    "    Text = re.sub('http\\S+\\s*', ' ', Text)\n",
    "    Text = re.sub('@\\S+', '  ', Text)\n",
    "    Text = re.sub('[%s]' % re.escape(\n",
    "        \"\"\"!\"#$%&'()*+,-./:;<=>?@[\\]^_`{|}~\"\"\"), ' ', Text)\n",
    "    Text = re.sub('RT|cc', ' ', Text)\n",
    "    Text = re.sub('#\\S+', '', Text)\n",
    "    Text = re.sub(r'[^\\x00-\\x7f]', r' ', Text)\n",
    "    Text = re.sub('\\s+', ' ', Text)\n",
    "    return Text\n",
    "\n",
    "\n",
    "dataf['structured_resume'] = dataf.Resume.apply(lambda x: clean_resume(x))\n",
    "\n",
    "# clean_input = inp_data(lambda x: clean_input(x))\n",
    "Set_Of_StopWords = set(stopwords.words('english')+['``', \"''\"])\n",
    "total_Words = []\n",
    "Sentences = dataf['Resume'].values\n",
    "cleaned_Sentences = \"\"\n",
    "for i in range(0, len(Sentences)):\n",
    "    cleanedText = clean_resume(Sentences[i])\n",
    "    cleaned_Sentences += cleanedText\n",
    "    requiredWords = nltk.word_tokenize(cleanedText)\n",
    "    for word in requiredWords:\n",
    "        if word not in Set_Of_StopWords and word not in string.punctuation:\n",
    "            total_Words.append(word)\n",
    "\n",
    "\n",
    "wordfrequencydist = nltk.FreqDist(total_Words)\n",
    "mostCommon = wordfrequencydist.most_common(50)\n",
    "# print(mostCommon)\n",
    "required_Text = dataf['structured_resume'].values\n",
    "# required_Target = resumeData['Category'].values\n",
    "word_vectorizer = joblib.load('model1_vec.pkl')\n",
    "# word_vectorizer = TfidfVectorizer(sublinear_tf=True, stop_words='english', max_features=1500)\n",
    "required_Text = required_Text[~pd.isnull(required_Text)]\n",
    "WordFeatures = word_vectorizer.transform(required_Text)\n",
    "# print(WordFeatures.shape)   \n",
    "\n",
    "clf = joblib.load('model.pkl')\n",
    "predicted = clf.predict(WordFeatures)\n",
    "print(predicted)\n",
    "\n",
    "new_val = predicted\n",
    "result= [new_k for new_k in dict_job.items() if new_k[1] == new_val][0][0]\n",
    "print(result)\n",
    "\n",
    "\n",
    "prob = clf.predict_proba(WordFeatures)\n",
    "print(prob)"
   ]
  },
  {
   "cell_type": "code",
   "execution_count": 17,
   "metadata": {},
   "outputs": [],
   "source": [
    "prob = prob[0]"
   ]
  },
  {
   "cell_type": "code",
   "execution_count": 18,
   "metadata": {},
   "outputs": [
    {
     "data": {
      "text/plain": [
       "array([0.06398762, 0.06628013, 0.04615241, 0.02731243, 0.03611351,\n",
       "       0.0263248 , 0.05428685, 0.04032049, 0.07847511, 0.02392916,\n",
       "       0.02180677, 0.02360082, 0.11219132, 0.02126309, 0.0314798 ,\n",
       "       0.07822444, 0.03160011, 0.0154406 , 0.02163602, 0.01435244,\n",
       "       0.03118754, 0.03032284, 0.02786835, 0.05544513, 0.02039824])"
      ]
     },
     "execution_count": 18,
     "metadata": {},
     "output_type": "execute_result"
    }
   ],
   "source": [
    "prob"
   ]
  },
  {
   "cell_type": "code",
   "execution_count": 19,
   "metadata": {},
   "outputs": [],
   "source": [
    "prob_dict = {}"
   ]
  },
  {
   "cell_type": "code",
   "execution_count": 20,
   "metadata": {},
   "outputs": [],
   "source": [
    "for i in range(0, len(prob)):\n",
    "    prob_dict[i] = prob[i]"
   ]
  },
  {
   "cell_type": "code",
   "execution_count": 21,
   "metadata": {},
   "outputs": [
    {
     "data": {
      "text/plain": [
       "{0: 0.06398761982114362,\n",
       " 1: 0.06628012997407753,\n",
       " 2: 0.04615240794075676,\n",
       " 3: 0.027312433602855974,\n",
       " 4: 0.036113513921169446,\n",
       " 5: 0.026324797004208818,\n",
       " 6: 0.05428684529320771,\n",
       " 7: 0.04032048649230657,\n",
       " 8: 0.07847511489545116,\n",
       " 9: 0.023929158387989653,\n",
       " 10: 0.021806774167878497,\n",
       " 11: 0.02360082272368618,\n",
       " 12: 0.11219131551269614,\n",
       " 13: 0.02126308510509322,\n",
       " 14: 0.03147979792316102,\n",
       " 15: 0.0782244392969245,\n",
       " 16: 0.0316001115843089,\n",
       " 17: 0.015440595717745715,\n",
       " 18: 0.02163601836547752,\n",
       " 19: 0.01435243564930927,\n",
       " 20: 0.031187537667229617,\n",
       " 21: 0.030322836654539224,\n",
       " 22: 0.02786835249910649,\n",
       " 23: 0.05544512980132663,\n",
       " 24: 0.020398239998349457}"
      ]
     },
     "execution_count": 21,
     "metadata": {},
     "output_type": "execute_result"
    }
   ],
   "source": [
    "prob_dict"
   ]
  },
  {
   "cell_type": "code",
   "execution_count": null,
   "metadata": {},
   "outputs": [],
   "source": []
  }
 ],
 "metadata": {
  "kernelspec": {
   "display_name": "Python 3.7.13 ('pytorch')",
   "language": "python",
   "name": "python3"
  },
  "language_info": {
   "codemirror_mode": {
    "name": "ipython",
    "version": 3
   },
   "file_extension": ".py",
   "mimetype": "text/x-python",
   "name": "python",
   "nbconvert_exporter": "python",
   "pygments_lexer": "ipython3",
   "version": "3.7.13"
  },
  "orig_nbformat": 4,
  "vscode": {
   "interpreter": {
    "hash": "7a3f2c80ea66c24fd76a9a71a25558c52fee05a6e45793e0a26745819a7b6b51"
   }
  }
 },
 "nbformat": 4,
 "nbformat_minor": 2
}
