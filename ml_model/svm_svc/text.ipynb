{
 "cells": [
  {
   "cell_type": "code",
   "execution_count": 1,
   "metadata": {},
   "outputs": [],
   "source": [
    "import pandas as pd\n"
   ]
  },
  {
   "cell_type": "code",
   "execution_count": 2,
   "metadata": {},
   "outputs": [],
   "source": [
    "df = pd.DataFrame(pd.read_excel('try.xlsx'))"
   ]
  },
  {
   "cell_type": "code",
   "execution_count": 3,
   "metadata": {},
   "outputs": [],
   "source": [
    "data1 = df['Resume'][6]"
   ]
  },
  {
   "cell_type": "code",
   "execution_count": 4,
   "metadata": {},
   "outputs": [],
   "source": [
    "liststr = list(data1)\n",
    "for i in range(0, len(liststr)):\n",
    "    if liststr[i] == '\\n':\n",
    "        liststr[i] = ' '"
   ]
  },
  {
   "cell_type": "code",
   "execution_count": 5,
   "metadata": {},
   "outputs": [],
   "source": [
    "data2 = ''.join(liststr)"
   ]
  },
  {
   "cell_type": "code",
   "execution_count": 6,
   "metadata": {},
   "outputs": [
    {
     "data": {
      "text/plain": [
       "\"WORK EXPERIENCE Application Development Analyst Accenture Solutions Pvt Ltd 07/2021 - Present, Hyderabad, India Web Application Devloper for Accenture in house project (myDiagnostic). Worked on building API's for Living Systems project along with Worker Services. Technologies/Programming Languages Used: C#, VB, Python, ASP.Net, ADO.Net, .NET Core. Associate System Development Hansa Solutions India Pvt. Ltd. 12/2018 - 07/2021, Hyderabad, India Hansa Solutions provides mission-critical software and IT services to institutions, virtually in every segment of the Insurance Industry. Web Application Development for SBI Life Insurance Company to carry out Policy Servicing and Claims functionality. Involved in designing, development, unit testing and Implementation of the web application. Acted as SPOC for the delivery and worked at client base(CPC Mumbai) in cooperation with AVP’s and project managers of SBIL. Technologies Used: ASP.Net, ADO.Net, JavaScript, JQuery, CSS, C#,VB.Net, Oracle, Windows Services. Tools Used: IIS, Visual Studio 2012, Microsoft SQL Server Management Studio 12, VSS. EDUCATION Bachelor of Technology GMR Institute of Technology 07/2015 - 04/2019, 8.9 Computer Science and Engineering Intermediate Education - BIE AP Sri Chaitanya Junior Kalasala 06/2013 - 04/2015, 95% MPC Xth - ICSE St. Ann's School 06/2006 - 03/2013, 88% SKILLS ASP. Net ADO.Net Windows Services VB.Net Azure .Net Core CSS Oracle C# MVC Oracle DB Insurance Domain Knowledge PostGres Sql PROJECTS myDiagnostic (07/2022 - Present) Developing Web API's for request handling and data processing based on User Stories. Developing Worker Services based on User Stories. Certified in AZ-900 : Microsoft Azure Fundamentals Policy Servicing Modules (06/2019 - 07/2021) Developing change requests for the policy servicing module of SBI Life Insurance. Production Environment Maintainence and support. Enhancing Queries and code performance. Claims Module (06/2019 - 07/2021) Integrating third party vendors to the module and improving the workflow of the system. Production Environment Maintainence and support. Enhancing Queries and code performance. ACHIEVEMENTS Individual Contributor Award (02/2022 - Present) Shown excellent performance in contributing individually for a complete project in Accenture within a short span of time Best Performance Award (06/2019 - 12/2020) Shown excellent performance in completing the projects and optimizing\""
      ]
     },
     "execution_count": 6,
     "metadata": {},
     "output_type": "execute_result"
    }
   ],
   "source": [
    "data2"
   ]
  },
  {
   "cell_type": "code",
   "execution_count": null,
   "metadata": {},
   "outputs": [],
   "source": []
  }
 ],
 "metadata": {
  "kernelspec": {
   "display_name": "Python 3.7.13 ('pytorch')",
   "language": "python",
   "name": "python3"
  },
  "language_info": {
   "codemirror_mode": {
    "name": "ipython",
    "version": 3
   },
   "file_extension": ".py",
   "mimetype": "text/x-python",
   "name": "python",
   "nbconvert_exporter": "python",
   "pygments_lexer": "ipython3",
   "version": "3.7.13"
  },
  "orig_nbformat": 4,
  "vscode": {
   "interpreter": {
    "hash": "7a3f2c80ea66c24fd76a9a71a25558c52fee05a6e45793e0a26745819a7b6b51"
   }
  }
 },
 "nbformat": 4,
 "nbformat_minor": 2
}
