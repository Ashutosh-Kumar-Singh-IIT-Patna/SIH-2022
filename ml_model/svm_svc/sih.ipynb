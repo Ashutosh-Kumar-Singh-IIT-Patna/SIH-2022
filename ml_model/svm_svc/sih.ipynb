{
 "cells": [
  {
   "cell_type": "code",
   "execution_count": 9,
   "metadata": {},
   "outputs": [
    {
     "name": "stdout",
     "output_type": "stream",
     "text": [
      "[12]\n",
      "------------------------------------------------------------------------\n",
      "                     HR (Best option)\n",
      "------------------------------------------------------------------------\n",
      "[[0.06147856 0.06429603 0.05033352 0.02669965 0.03414372 0.02710398\n",
      "  0.05984477 0.04192949 0.07173859 0.02118194 0.02101493 0.02331504\n",
      "  0.10954988 0.01974738 0.03199136 0.09624989 0.03148355 0.01496657\n",
      "  0.0202954  0.0137839  0.02949167 0.02754161 0.02898806 0.052671\n",
      "  0.02015952]]\n"
     ]
    }
   ],
   "source": [
    "import joblib\n",
    "from scipy.sparse import hstack\n",
    "from sklearn.feature_extraction.text import TfidfVectorizer\n",
    "from sklearn.model_selection import train_test_split\n",
    "import re\n",
    "from sklearn.preprocessing import LabelEncoder\n",
    "from wordcloud import WordCloud\n",
    "import string\n",
    "from nltk.corpus import stopwords\n",
    "import nltk\n",
    "from sklearn.multiclass import OneVsRestClassifier\n",
    "from sklearn.naive_bayes import MultinomialNB\n",
    "from sklearn.neighbors import KNeighborsClassifier\n",
    "from pandas.plotting import scatter_matrix\n",
    "from sklearn.metrics import accuracy_score\n",
    "from sklearn import metrics\n",
    "import pandas as pd\n",
    "import numpy as np\n",
    "import pandas as pd\n",
    "import os\n",
    "import seaborn as sns\n",
    "import warnings\n",
    "\n",
    "dict_job = {\n",
    "    \"Data Science\":  6,\n",
    "    \"HR\": 12,\n",
    "    \"Advocate\":  0,\n",
    "    \"Arts\":  1,\n",
    "    \"Web Designing\": 24,\n",
    "    \"Mechanical Engineer\": 16,\n",
    "    \"Sales\": 22,\n",
    "    \"Health and fitness\": 14,\n",
    "    \"Civil Engineer\":  5,\n",
    "    \"Software Engineer\": 15,\n",
    "    \"Business Analyst\":  4,\n",
    "    \"SAP Developer\": 21,\n",
    "    \"Automation Testing\":  2,\n",
    "    \"Electrical Engineering\": 11,\n",
    "    \"Operations Manager\": 18,\n",
    "    \"Python Developer\": 20,\n",
    "    \"DevOps Engineer\":  8,\n",
    "    \"Network Security Engineer\": 17,\n",
    "    \"PMO\": 19,\n",
    "    \"Database\":  7,\n",
    "    \"Hadoop\": 13,\n",
    "    \"ETL Developer\": 10,\n",
    "    \"DotNet Developer\":  9,\n",
    "    \"Blockchain\":  3,\n",
    "    \"Testing\": 23\n",
    "\n",
    "}\n",
    "\n",
    "\n",
    "inp_data = input(\"Enter resume: \")\n",
    "data = {\"Resume\": [inp_data]}\n",
    "dataf = pd.DataFrame(data)\n",
    "dataf['structured_resume'] = ''\n",
    "\n",
    "\n",
    "def clean_resume(Text):\n",
    "    Text = re.sub('http\\S+\\s*', ' ', Text)\n",
    "    Text = re.sub('@\\S+', '  ', Text)\n",
    "    Text = re.sub('[%s]' % re.escape(\n",
    "        \"\"\"!\"#$%&'()*+,-./:;<=>?@[\\]^_`{|}~\"\"\"), ' ', Text)\n",
    "    Text = re.sub('RT|cc', ' ', Text)\n",
    "    Text = re.sub('#\\S+', '', Text)\n",
    "    Text = re.sub(r'[^\\x00-\\x7f]', r' ', Text)\n",
    "    Text = re.sub('\\s+', ' ', Text)\n",
    "    return Text\n",
    "\n",
    "\n",
    "dataf['structured_resume'] = dataf.Resume.apply(lambda x: clean_resume(x))\n",
    "\n",
    "Set_Of_StopWords = set(stopwords.words('english')+['``', \"''\"])\n",
    "total_Words = []\n",
    "Sentences = dataf['Resume'].values\n",
    "cleaned_Sentences = \"\"\n",
    "for i in range(0, len(Sentences)):\n",
    "    cleanedText = clean_resume(Sentences[i])\n",
    "    cleaned_Sentences += cleanedText\n",
    "    requiredWords = nltk.word_tokenize(cleanedText)\n",
    "    for word in requiredWords:\n",
    "        if word not in Set_Of_StopWords and word not in string.punctuation:\n",
    "            total_Words.append(word)\n",
    "\n",
    "\n",
    "required_Text = dataf['structured_resume'].values\n",
    "word_vectorizer = joblib.load('model1_vec.pkl')\n",
    "required_Text = required_Text[~pd.isnull(required_Text)]\n",
    "WordFeatures = word_vectorizer.transform(required_Text)\n",
    "\n",
    "clf = joblib.load('model.pkl')\n",
    "predicted = clf.predict(WordFeatures)\n",
    "print(predicted)\n",
    "new_val = predicted\n",
    "result= [new_k for new_k in dict_job.items() if new_k[1] == new_val][0][0]\n",
    "print(\"------------------------------------------------------------------------\")\n",
    "print(\"                    \",result,\"(Best option)\")\n",
    "print(\"------------------------------------------------------------------------\")\n",
    "\n",
    "\n",
    "prob = clf.predict_proba(WordFeatures)\n",
    "print(prob)"
   ]
  },
  {
   "cell_type": "code",
   "execution_count": 10,
   "metadata": {},
   "outputs": [],
   "source": [
    "list_prob = prob[0]"
   ]
  },
  {
   "cell_type": "code",
   "execution_count": 11,
   "metadata": {},
   "outputs": [
    {
     "data": {
      "text/plain": [
       "array([0.06147856, 0.06429603, 0.05033352, 0.02669965, 0.03414372,\n",
       "       0.02710398, 0.05984477, 0.04192949, 0.07173859, 0.02118194,\n",
       "       0.02101493, 0.02331504, 0.10954988, 0.01974738, 0.03199136,\n",
       "       0.09624989, 0.03148355, 0.01496657, 0.0202954 , 0.0137839 ,\n",
       "       0.02949167, 0.02754161, 0.02898806, 0.052671  , 0.02015952])"
      ]
     },
     "execution_count": 11,
     "metadata": {},
     "output_type": "execute_result"
    }
   ],
   "source": [
    "list_prob"
   ]
  },
  {
   "cell_type": "code",
   "execution_count": 12,
   "metadata": {},
   "outputs": [],
   "source": [
    "proba = {}\n",
    "for i in range(0, len(list_prob)):\n",
    "    proba[i] = list_prob[i]"
   ]
  },
  {
   "cell_type": "code",
   "execution_count": 13,
   "metadata": {},
   "outputs": [
    {
     "data": {
      "text/plain": [
       "{0: 0.06147856029781702,\n",
       " 1: 0.06429602899426717,\n",
       " 2: 0.05033352204915248,\n",
       " 3: 0.02669964905607851,\n",
       " 4: 0.034143716237293655,\n",
       " 5: 0.027103980215094033,\n",
       " 6: 0.059844768857688316,\n",
       " 7: 0.0419294890360176,\n",
       " 8: 0.07173858753851739,\n",
       " 9: 0.021181944997589817,\n",
       " 10: 0.021014926035443422,\n",
       " 11: 0.023315037281776776,\n",
       " 12: 0.10954988188907801,\n",
       " 13: 0.019747383831211232,\n",
       " 14: 0.03199136499918586,\n",
       " 15: 0.0962498898545127,\n",
       " 16: 0.03148354764971965,\n",
       " 17: 0.014966573733870184,\n",
       " 18: 0.02029540078500207,\n",
       " 19: 0.013783896875348894,\n",
       " 20: 0.029491667510175984,\n",
       " 21: 0.02754160990745593,\n",
       " 22: 0.028988055133235605,\n",
       " 23: 0.05267099871375897,\n",
       " 24: 0.02015951852070854}"
      ]
     },
     "execution_count": 13,
     "metadata": {},
     "output_type": "execute_result"
    }
   ],
   "source": [
    "proba"
   ]
  },
  {
   "cell_type": "code",
   "execution_count": 14,
   "metadata": {},
   "outputs": [
    {
     "data": {
      "text/plain": [
       "0.10954988188907801"
      ]
     },
     "execution_count": 14,
     "metadata": {},
     "output_type": "execute_result"
    }
   ],
   "source": [
    "proba[12]"
   ]
  },
  {
   "cell_type": "code",
   "execution_count": 16,
   "metadata": {},
   "outputs": [
    {
     "data": {
      "text/plain": [
       "{0: 0.06147856029781702,\n",
       " 1: 0.06429602899426717,\n",
       " 2: 0.05033352204915248,\n",
       " 3: 0.02669964905607851,\n",
       " 4: 0.034143716237293655,\n",
       " 5: 0.027103980215094033,\n",
       " 6: 0.059844768857688316,\n",
       " 7: 0.0419294890360176,\n",
       " 8: 0.07173858753851739,\n",
       " 9: 0.021181944997589817,\n",
       " 10: 0.021014926035443422,\n",
       " 11: 0.023315037281776776,\n",
       " 12: 0.10954988188907801,\n",
       " 13: 0.019747383831211232,\n",
       " 14: 0.03199136499918586,\n",
       " 15: 0.0962498898545127,\n",
       " 16: 0.03148354764971965,\n",
       " 17: 0.014966573733870184,\n",
       " 18: 0.02029540078500207,\n",
       " 19: 0.013783896875348894,\n",
       " 20: 0.029491667510175984,\n",
       " 21: 0.02754160990745593,\n",
       " 22: 0.028988055133235605,\n",
       " 23: 0.05267099871375897,\n",
       " 24: 0.02015951852070854}"
      ]
     },
     "execution_count": 16,
     "metadata": {},
     "output_type": "execute_result"
    }
   ],
   "source": [
    "proba"
   ]
  },
  {
   "cell_type": "code",
   "execution_count": 23,
   "metadata": {},
   "outputs": [],
   "source": [
    "proba = {k: v for k, v in sorted(proba.items(), key=lambda item: item[1])}"
   ]
  },
  {
   "cell_type": "code",
   "execution_count": 25,
   "metadata": {},
   "outputs": [],
   "source": [
    "lkey = list(proba.keys())"
   ]
  },
  {
   "cell_type": "code",
   "execution_count": 24,
   "metadata": {},
   "outputs": [
    {
     "data": {
      "text/plain": [
       "{19: 0.013783896875348894,\n",
       " 17: 0.014966573733870184,\n",
       " 13: 0.019747383831211232,\n",
       " 24: 0.02015951852070854,\n",
       " 18: 0.02029540078500207,\n",
       " 10: 0.021014926035443422,\n",
       " 9: 0.021181944997589817,\n",
       " 11: 0.023315037281776776,\n",
       " 3: 0.02669964905607851,\n",
       " 5: 0.027103980215094033,\n",
       " 21: 0.02754160990745593,\n",
       " 22: 0.028988055133235605,\n",
       " 20: 0.029491667510175984,\n",
       " 16: 0.03148354764971965,\n",
       " 14: 0.03199136499918586,\n",
       " 4: 0.034143716237293655,\n",
       " 7: 0.0419294890360176,\n",
       " 2: 0.05033352204915248,\n",
       " 23: 0.05267099871375897,\n",
       " 6: 0.059844768857688316,\n",
       " 0: 0.06147856029781702,\n",
       " 1: 0.06429602899426717,\n",
       " 8: 0.07173858753851739,\n",
       " 15: 0.0962498898545127,\n",
       " 12: 0.10954988188907801}"
      ]
     },
     "execution_count": 24,
     "metadata": {},
     "output_type": "execute_result"
    }
   ],
   "source": [
    "proba"
   ]
  },
  {
   "cell_type": "code",
   "execution_count": 27,
   "metadata": {},
   "outputs": [
    {
     "data": {
      "text/plain": [
       "12"
      ]
     },
     "execution_count": 27,
     "metadata": {},
     "output_type": "execute_result"
    }
   ],
   "source": [
    "lkey[-1]"
   ]
  },
  {
   "cell_type": "code",
   "execution_count": 28,
   "metadata": {},
   "outputs": [
    {
     "data": {
      "text/plain": [
       "15"
      ]
     },
     "execution_count": 28,
     "metadata": {},
     "output_type": "execute_result"
    }
   ],
   "source": [
    "lkey[-2]"
   ]
  },
  {
   "cell_type": "code",
   "execution_count": 29,
   "metadata": {},
   "outputs": [
    {
     "data": {
      "text/plain": [
       "8"
      ]
     },
     "execution_count": 29,
     "metadata": {},
     "output_type": "execute_result"
    }
   ],
   "source": [
    "lkey[-3]"
   ]
  },
  {
   "cell_type": "code",
   "execution_count": null,
   "metadata": {},
   "outputs": [],
   "source": []
  }
 ],
 "metadata": {
  "kernelspec": {
   "display_name": "Python 3.7.13 ('pytorch')",
   "language": "python",
   "name": "python3"
  },
  "language_info": {
   "codemirror_mode": {
    "name": "ipython",
    "version": 3
   },
   "file_extension": ".py",
   "mimetype": "text/x-python",
   "name": "python",
   "nbconvert_exporter": "python",
   "pygments_lexer": "ipython3",
   "version": "3.7.13"
  },
  "orig_nbformat": 4,
  "vscode": {
   "interpreter": {
    "hash": "7a3f2c80ea66c24fd76a9a71a25558c52fee05a6e45793e0a26745819a7b6b51"
   }
  }
 },
 "nbformat": 4,
 "nbformat_minor": 2
}
