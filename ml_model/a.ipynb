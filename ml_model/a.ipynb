{
 "cells": [
  {
   "cell_type": "code",
   "execution_count": 1,
   "metadata": {},
   "outputs": [],
   "source": [
    "import pandas as pd\n"
   ]
  },
  {
   "cell_type": "code",
   "execution_count": 3,
   "metadata": {},
   "outputs": [],
   "source": [
    "df = pd.DataFrame(pd.read_excel('try.xlsx'))"
   ]
  },
  {
   "cell_type": "code",
   "execution_count": 4,
   "metadata": {},
   "outputs": [],
   "source": [
    "data1 = df['Resume'][1]"
   ]
  },
  {
   "cell_type": "code",
   "execution_count": 5,
   "metadata": {},
   "outputs": [
    {
     "data": {
      "text/plain": [
       "\"Contact\\n\\nwww.linkedin.com/inAwohlreich\\n(LinkedIn)\\n\\nTop Skills\\n\\nPublic Speaking\\nTeam Organisation\\nMicrosoft Office\\n\\nLanguages\\n\\nFrench (Elementary)\\n\\n \\n\\nDavid Wohlreich\\n\\nVP, Total Rewards @ Twitch\\n\\nSummary\\n\\nI've worked across industries and geographies, in operations, HR,\\n\\nand finance, from 250 employees to 390,000. It's always - always -\\nthe people and the culture which make a job anything more than a\\ngrind.\\n\\n| have opinions about everything but answers about very little.\\nThere's almost always a better way to do things. Let's find it together.\\n\\nExperience\\n\\nTwitch\\n\\nVP, Total Rewards\\nJuly 2022 - Present (2 months)\\n\\nFront\\n1 year 1 month\\n\\nHead of People Experience & Operations\\nJanuary 2022 - July 2022 (7 months)\\n\\nAt the intersection of the organization and the individual, the culture and the\\nsystems, we try to make work a little better, a little easier, a little more sensible,\\n\\nand a little more just. And have a lot of fun in the process.\\n\\nHead of People Operations\\nJuly 2021 - January 2022 (7 months)\\n\\nBuilding a people infrastructure worthy of the folks making work happier by\\n\\nmeaningfully connecting teams and customers\\n\\nNiantic, Inc.\\n2 years 4 months\\n\\nDirector, Total Rewards & HR Operations\\nJanuary 2020 - March 2021 (1 year 3 months)\\n\\nPage 1 of 6\\n_x000C_ \\n\\nLed the combined HR Operations function, representing Compensation,\\n\\nBenefits, HR Information Systems, HR Analytics, and Onboarding\\n\\nBuilt a best-in-class employee experience, balancing financial constraints,\\ncultural values, business strategy, and geographic, employee, & industry\\n\\ndiversity\\n\\nBuilt and managed the Rewards and HR Operations teams, recruiting,\\ncoaching, and developing individual contributors and managers across the\\n\\nsubfunctions\\n\\nSenior Manager, Compensation and Benefits\\nDecember 2018 - January 2020 (1 year 2 months)\\n\\nDefined Niantic's employee value proposition (EVP)\\n\\nLed Total Rewards strategy and function globally, including strategic design,\\nanalysis, and execution of all aspects of compensation (base salary, bonus,\\n\\nsales rewarding, equity)\\n\\nRedesigned benefits and global mobility programs ensuring market\\ncompetitiveness, cost efficiency, and alignment with business strategy and\\n\\ncompany values\\n\\nServed as Niantic's subject matter expert in the field of Total Rewards,\\nproviding internal and external thought leadership on all aspects of rewards\\n\\ndesign, practice, and analysis\\n\\nRiot Games\\n2 years\\n\\nManager, Global Compensation\\nMay 2017 - November 2018 (1 year 7 months)\\n\\nLed global compensation function at Riot Games, hiring, training, and\\noverseeing a team of compensation analysts to provide consulting and\\n\\noversight directly and through HR business partners in the US and abroad\\n\\nManaged global compensation programs at Riot, including role classification,\\n\\ncompensation reviews, interdisciplinary and international mobility cases\\n\\nPage 2 of 6\\n_x000C_ \\n\\nDesigned, implemented, and administered compensation infrastructure\\npolicies and programs to analyze market positions, identify opportunities or\\nthreats, and ensure total rewards strategy supports and advances company\\n\\nstrategy\\n\\nServed as ultimate compensation subject matter expert for the organization,\\nproviding expertise and analysis on demand and as part of cyclical budget and\\n\\nheadcount reporting to function heads and senior executives\\n\\nDesigned and delivered robust compensation training and resources for\\n\\nexecutives, managers, and employees across Riot\\n\\nSenior Compensation Analyst\\nDecember 2016 - May 2017 (6 months)\\n\\nSupported global compensation programs at Riot, including role classification,\\ncompensation reviews, interdisciplinary and international mobility cases\\nDesigned, implemented, and administered compensation infrastructure\\npolicies and programs to analyze market positions and align with\\norganizational strategic objectives\\n\\nServed as compensation subject matter expert for HR and finance, providing\\nexpertise and analysis on demand and as part of cyclical budget and\\nheadcount reporting\\n\\nDesigned and delivered compensation training for managers and executives\\n\\nacross Riot\\n\\nChubb (formerly ACE Group)\\n\\nSenior Compensation Analyst\\nAugust 2015 - December 2016 (1 year 5 months)\\n\\nManaged, developed and administered Chubb global compensation programs,\\nwith a focus on the Overseas General global group\\n\\nManaged the annual global compensation cycle, including developing\\n\\nbonus and equity pools, analyzing year-over-year growth, managing the\\ncompensation planning system, and preparing detailed analyses/reports of\\ncompensation spend\\n\\nCollaborated with HR leaders and the business to explore problems, resolve\\nissues, and create solutions on matters related to the global compensation\\n\\nprogram\\n\\nPage 3 of 6\\n_x000C_ \\n\\nConducted job evaluations by working closely with HR business partners to\\nreview job descriptions and ensure appropriate grade relative to internal and\\nexternal comparisons utilizing market pricing and a job grading evaluation\\nmethodology\\n\\nConductes detailed market analyses for North America and other divisions\\n(including international) to ensure market competitiveness of Chubb\\ncompensation practices\\n\\nOversaw the salary survey process, including managing vendor relationships,\\ncoordinating global participation with HR colleagues in relevant countries, and\\ncompleting US salary survey submissions\\n\\nConductes quarterly analyses on headcount growth and compensation costs\\n\\nglobally\\n\\nBosch North America\\n3 years 3 months\\n\\nCompensation Analyst\\nNovember 2013 - August 2015 (1 year 10 months)\\n\\nPlanned and executed Bosch’s annual salary reviews and incentive programs\\nrepresenting a population of 9,000 associates and program budgets in excess\\nof $70 million\\n\\nEvaluated and utilized external market pricing tools, including annual salary\\nsurvey participation\\n\\nServed as subject matter expert in compensation for Bosch’s 1,500 mid-\\n\\nand senior-level managers, consulting internally on issues of market pricing,\\ninternal equity, and incentive structure\\n\\nDrove continuous improvement in compensation for the region, supporting\\nHR Business Partners representing 26,000 Bosch associates across North\\nAmerica\\n\\nDesigned and maintained compensation internal controls in coordination with\\ninternal and external auditors\\n\\nManaged compensation topics for divestiture activities in the United States\\n\\nFinancial Analyst, Diesel Systems\\nJune 2013 - November 2013 (6 months)\\n\\nPerformed product cost control, developed new standard costs, and analyzed\\nimpacts on product cost.\\n\\nMaintained financial systems (SAP) and communicated data to senior\\nmanagement.\\n\\nDelivered historical and forecast financial reports to plant management.\\n\\nPage 4o0f6\\n_x000C_ \\n\\nFinancial Analyst\\nDecember 2012 - June 2013 (7 months)\\n\\nSupported controlling processes for month-end closing\\nAnalyzed financial impact of new capital investments\\n\\nDesigned and executed engineering manager financial literacy training\\n\\nFinancial Analyst - Bosch Rexroth\\nJune 2012 - December 2012 (7 months)\\n\\nAudited internal controls effectiveness and compliance\\nControlled and forecast employee and temporary/contingent worker headcount\\n\\nAnalyzed fixed asset acquisition return on investment\\n\\nIndiana University School of Nursing\\n\\nResource Management Analyst\\nNovember 2011 - May 2012 (7 months)\\n\\nPerformed cost and cost driver analysis regarding salary and administration\\ndata\\n\\nPrepared documentation for scenario analysis\\n\\nCommunicated principles of activity-based costing to non-accounting\\n\\ndepartment heads\\n\\nKelley School of Business, Indiana University, Indianapolis\\nTeaching Assistant, A100 Basic Accounting Skills\\n\\nAugust 2011 - May 2012 (10 months)\\nCo-taught review sessions\\nEnsured integrity and accuracy of student grades\\n\\nAnswered course and content questions for students\\n\\nHenson Company\\n\\nSummer Accounting/Finance Intern\\nMay 2010 - August 2010 (4 months)\\n\\nAssisted staff accountants with external audit support\\nPrepared budget and participation reports for quarterly board meetings\\n\\nPerformed account research, analysis, and reconciliation.\\n\\nVarious Companies\\n\\nOffice Manager and others\\nJanuary 2001 - May 2010 (9 years 5 months)\\n\\nPage 5of6\\n_x000C_ \\n\\nHeld various positions in the hospitality and restaurant industry, working\\nacross front-of-house (server, bartender) and back-of-house (line cook, prep\\ncook, expeditor, grill cook, office manager). Focused on casual theme and bar\\n\\nmanagement.\\n\\nEducation\\n\\nIndiana University - Kelley School of Business\\nBachelor of Science in Business (Honors), Accounting, Finance, International\\nStudies - (2008 - 2012)\\n\\nPage 6 of 6\\n\""
      ]
     },
     "execution_count": 5,
     "metadata": {},
     "output_type": "execute_result"
    }
   ],
   "source": [
    "data1"
   ]
  },
  {
   "cell_type": "code",
   "execution_count": 6,
   "metadata": {},
   "outputs": [],
   "source": [
    "liststr = list(data1)\n",
    "for i in range(0, len(liststr)):\n",
    "    if liststr[i] == '\\n':\n",
    "        liststr[i] = ' '"
   ]
  },
  {
   "cell_type": "code",
   "execution_count": 7,
   "metadata": {},
   "outputs": [],
   "source": [
    "data2 = ''.join(liststr)"
   ]
  },
  {
   "cell_type": "code",
   "execution_count": 8,
   "metadata": {},
   "outputs": [
    {
     "data": {
      "text/plain": [
       "\"Contact  www.linkedin.com/inAwohlreich (LinkedIn)  Top Skills  Public Speaking Team Organisation Microsoft Office  Languages  French (Elementary)     David Wohlreich  VP, Total Rewards @ Twitch  Summary  I've worked across industries and geographies, in operations, HR,  and finance, from 250 employees to 390,000. It's always - always - the people and the culture which make a job anything more than a grind.  | have opinions about everything but answers about very little. There's almost always a better way to do things. Let's find it together.  Experience  Twitch  VP, Total Rewards July 2022 - Present (2 months)  Front 1 year 1 month  Head of People Experience & Operations January 2022 - July 2022 (7 months)  At the intersection of the organization and the individual, the culture and the systems, we try to make work a little better, a little easier, a little more sensible,  and a little more just. And have a lot of fun in the process.  Head of People Operations July 2021 - January 2022 (7 months)  Building a people infrastructure worthy of the folks making work happier by  meaningfully connecting teams and customers  Niantic, Inc. 2 years 4 months  Director, Total Rewards & HR Operations January 2020 - March 2021 (1 year 3 months)  Page 1 of 6 _x000C_   Led the combined HR Operations function, representing Compensation,  Benefits, HR Information Systems, HR Analytics, and Onboarding  Built a best-in-class employee experience, balancing financial constraints, cultural values, business strategy, and geographic, employee, & industry  diversity  Built and managed the Rewards and HR Operations teams, recruiting, coaching, and developing individual contributors and managers across the  subfunctions  Senior Manager, Compensation and Benefits December 2018 - January 2020 (1 year 2 months)  Defined Niantic's employee value proposition (EVP)  Led Total Rewards strategy and function globally, including strategic design, analysis, and execution of all aspects of compensation (base salary, bonus,  sales rewarding, equity)  Redesigned benefits and global mobility programs ensuring market competitiveness, cost efficiency, and alignment with business strategy and  company values  Served as Niantic's subject matter expert in the field of Total Rewards, providing internal and external thought leadership on all aspects of rewards  design, practice, and analysis  Riot Games 2 years  Manager, Global Compensation May 2017 - November 2018 (1 year 7 months)  Led global compensation function at Riot Games, hiring, training, and overseeing a team of compensation analysts to provide consulting and  oversight directly and through HR business partners in the US and abroad  Managed global compensation programs at Riot, including role classification,  compensation reviews, interdisciplinary and international mobility cases  Page 2 of 6 _x000C_   Designed, implemented, and administered compensation infrastructure policies and programs to analyze market positions, identify opportunities or threats, and ensure total rewards strategy supports and advances company  strategy  Served as ultimate compensation subject matter expert for the organization, providing expertise and analysis on demand and as part of cyclical budget and  headcount reporting to function heads and senior executives  Designed and delivered robust compensation training and resources for  executives, managers, and employees across Riot  Senior Compensation Analyst December 2016 - May 2017 (6 months)  Supported global compensation programs at Riot, including role classification, compensation reviews, interdisciplinary and international mobility cases Designed, implemented, and administered compensation infrastructure policies and programs to analyze market positions and align with organizational strategic objectives  Served as compensation subject matter expert for HR and finance, providing expertise and analysis on demand and as part of cyclical budget and headcount reporting  Designed and delivered compensation training for managers and executives  across Riot  Chubb (formerly ACE Group)  Senior Compensation Analyst August 2015 - December 2016 (1 year 5 months)  Managed, developed and administered Chubb global compensation programs, with a focus on the Overseas General global group  Managed the annual global compensation cycle, including developing  bonus and equity pools, analyzing year-over-year growth, managing the compensation planning system, and preparing detailed analyses/reports of compensation spend  Collaborated with HR leaders and the business to explore problems, resolve issues, and create solutions on matters related to the global compensation  program  Page 3 of 6 _x000C_   Conducted job evaluations by working closely with HR business partners to review job descriptions and ensure appropriate grade relative to internal and external comparisons utilizing market pricing and a job grading evaluation methodology  Conductes detailed market analyses for North America and other divisions (including international) to ensure market competitiveness of Chubb compensation practices  Oversaw the salary survey process, including managing vendor relationships, coordinating global participation with HR colleagues in relevant countries, and completing US salary survey submissions  Conductes quarterly analyses on headcount growth and compensation costs  globally  Bosch North America 3 years 3 months  Compensation Analyst November 2013 - August 2015 (1 year 10 months)  Planned and executed Bosch’s annual salary reviews and incentive programs representing a population of 9,000 associates and program budgets in excess of $70 million  Evaluated and utilized external market pricing tools, including annual salary survey participation  Served as subject matter expert in compensation for Bosch’s 1,500 mid-  and senior-level managers, consulting internally on issues of market pricing, internal equity, and incentive structure  Drove continuous improvement in compensation for the region, supporting HR Business Partners representing 26,000 Bosch associates across North America  Designed and maintained compensation internal controls in coordination with internal and external auditors  Managed compensation topics for divestiture activities in the United States  Financial Analyst, Diesel Systems June 2013 - November 2013 (6 months)  Performed product cost control, developed new standard costs, and analyzed impacts on product cost.  Maintained financial systems (SAP) and communicated data to senior management.  Delivered historical and forecast financial reports to plant management.  Page 4o0f6 _x000C_   Financial Analyst December 2012 - June 2013 (7 months)  Supported controlling processes for month-end closing Analyzed financial impact of new capital investments  Designed and executed engineering manager financial literacy training  Financial Analyst - Bosch Rexroth June 2012 - December 2012 (7 months)  Audited internal controls effectiveness and compliance Controlled and forecast employee and temporary/contingent worker headcount  Analyzed fixed asset acquisition return on investment  Indiana University School of Nursing  Resource Management Analyst November 2011 - May 2012 (7 months)  Performed cost and cost driver analysis regarding salary and administration data  Prepared documentation for scenario analysis  Communicated principles of activity-based costing to non-accounting  department heads  Kelley School of Business, Indiana University, Indianapolis Teaching Assistant, A100 Basic Accounting Skills  August 2011 - May 2012 (10 months) Co-taught review sessions Ensured integrity and accuracy of student grades  Answered course and content questions for students  Henson Company  Summer Accounting/Finance Intern May 2010 - August 2010 (4 months)  Assisted staff accountants with external audit support Prepared budget and participation reports for quarterly board meetings  Performed account research, analysis, and reconciliation.  Various Companies  Office Manager and others January 2001 - May 2010 (9 years 5 months)  Page 5of6 _x000C_   Held various positions in the hospitality and restaurant industry, working across front-of-house (server, bartender) and back-of-house (line cook, prep cook, expeditor, grill cook, office manager). Focused on casual theme and bar  management.  Education  Indiana University - Kelley School of Business Bachelor of Science in Business (Honors), Accounting, Finance, International Studies - (2008 - 2012)  Page 6 of 6 \""
      ]
     },
     "execution_count": 8,
     "metadata": {},
     "output_type": "execute_result"
    }
   ],
   "source": [
    "data2"
   ]
  },
  {
   "cell_type": "code",
   "execution_count": null,
   "metadata": {},
   "outputs": [],
   "source": []
  }
 ],
 "metadata": {
  "kernelspec": {
   "display_name": "Python 3.7.13 ('pytorch')",
   "language": "python",
   "name": "python3"
  },
  "language_info": {
   "codemirror_mode": {
    "name": "ipython",
    "version": 3
   },
   "file_extension": ".py",
   "mimetype": "text/x-python",
   "name": "python",
   "nbconvert_exporter": "python",
   "pygments_lexer": "ipython3",
   "version": "3.7.13"
  },
  "orig_nbformat": 4,
  "vscode": {
   "interpreter": {
    "hash": "7a3f2c80ea66c24fd76a9a71a25558c52fee05a6e45793e0a26745819a7b6b51"
   }
  }
 },
 "nbformat": 4,
 "nbformat_minor": 2
}
