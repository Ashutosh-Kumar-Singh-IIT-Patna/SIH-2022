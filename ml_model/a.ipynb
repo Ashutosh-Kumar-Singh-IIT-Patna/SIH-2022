{
 "cells": [
  {
   "cell_type": "code",
   "execution_count": 8,
   "metadata": {},
   "outputs": [],
   "source": [
    "import pandas as pd\n"
   ]
  },
  {
   "cell_type": "code",
   "execution_count": 9,
   "metadata": {},
   "outputs": [],
   "source": [
    "df = pd.DataFrame(pd.read_excel('try.xlsx'))"
   ]
  },
  {
   "cell_type": "code",
   "execution_count": 10,
   "metadata": {},
   "outputs": [],
   "source": [
    "data1 = df['Resume'][0]"
   ]
  },
  {
   "cell_type": "code",
   "execution_count": 11,
   "metadata": {},
   "outputs": [
    {
     "data": {
      "text/plain": [
       "\"Jandu Construction India Pvt. Ltd. logo\\nHead Of Human ResourcesHead Of Human Resources\\nJandu Construction India Pvt. Ltd. · Full-timeJandu Construction India Pvt. Ltd. · Full-time\\nAug 2022 - Present · 1 moAug 2022 - Present · 1 mo\\nNew Delhi, Delhi, IndiaNew Delhi, Delhi, India\\nHR Dy. ManagerHR Dy. Manager\\nBGCC · Full-timeBGCC · Full-time\\nSep 2018 - Present · 4 yrsSep 2018 - Present · 4 yrs\\nNew Delhi, Delhi, IndiaNew Delhi, Delhi, India\\nERA INFRA ENGINEERING LIMITED logo\\nSBU HR HeadSBU HR Head\\nERA INFRA ENGINEERING LIMITEDERA INFRA ENGINEERING LIMITED\\nAug 2014 - Sep 2018 · 4 yrs 2 mosAug 2014 - Sep 2018 · 4 yrs 2 mos\\nNoida Area, IndiaNoida Area, India\\nSBU HR HeadSBU HR Head\\nSr.Manager -HRSr.Manager -HR\\nGulf Cement Co. (India)Gulf Cement Co. (India)\\nFeb 2013 - Jul 2014 · 1 yr 6 mosFeb 2013 - Jul 2014 · 1 yr 6 mos\\nNew Delhi Area, IndiaNew Delhi Area, India\\nSr. Manager_HRSr. Manager_HR\\nGVR Infra Projects LLC logo\\nManager-HRManager-HR\\nGVR Infra Projects LLCGVR Infra Projects LLC\\nApr 2011 - Feb 2013 · 1 yr 11 mosApr 2011 - Feb 2013 · 1 yr 11 mos\\nMgr-HRMgr-HR\\nShow all 7 experiences\\nEducationEducation\\nCBSE DelhiCBSE Delhi\\nMaster's degree, HRMaster's degree, HR\\n1998 - 19991998 - 1999\\nActivities and societies: Debate TeamActivities and societies: Debate Team\\nCBSE DelhiCBSE Delhi\\nBachelor of Arts (B.A.), English/Language Arts Teacher EducationBachelor of Arts (B.A.), English/Language Arts Teacher Education\\nActivities and societies: Debate teamActivities and societies: Debate team\\nVolunteeringVolunteering\\nHRHR\\nDSCDSC\\nMay 2005 - Apr 2011 · 6 yrsMay 2005 - Apr 2011 · 6 yrs\\nSocial Services\""
      ]
     },
     "execution_count": 11,
     "metadata": {},
     "output_type": "execute_result"
    }
   ],
   "source": [
    "data1"
   ]
  },
  {
   "cell_type": "code",
   "execution_count": 12,
   "metadata": {},
   "outputs": [],
   "source": [
    "liststr = list(data1)\n",
    "for i in range(0, len(liststr)):\n",
    "    if liststr[i] == '\\n':\n",
    "        liststr[i] = ' '"
   ]
  },
  {
   "cell_type": "code",
   "execution_count": 13,
   "metadata": {},
   "outputs": [],
   "source": [
    "data2 = ''.join(liststr)"
   ]
  },
  {
   "cell_type": "code",
   "execution_count": 14,
   "metadata": {},
   "outputs": [
    {
     "data": {
      "text/plain": [
       "\"Jandu Construction India Pvt. Ltd. logo Head Of Human ResourcesHead Of Human Resources Jandu Construction India Pvt. Ltd. · Full-timeJandu Construction India Pvt. Ltd. · Full-time Aug 2022 - Present · 1 moAug 2022 - Present · 1 mo New Delhi, Delhi, IndiaNew Delhi, Delhi, India HR Dy. ManagerHR Dy. Manager BGCC · Full-timeBGCC · Full-time Sep 2018 - Present · 4 yrsSep 2018 - Present · 4 yrs New Delhi, Delhi, IndiaNew Delhi, Delhi, India ERA INFRA ENGINEERING LIMITED logo SBU HR HeadSBU HR Head ERA INFRA ENGINEERING LIMITEDERA INFRA ENGINEERING LIMITED Aug 2014 - Sep 2018 · 4 yrs 2 mosAug 2014 - Sep 2018 · 4 yrs 2 mos Noida Area, IndiaNoida Area, India SBU HR HeadSBU HR Head Sr.Manager -HRSr.Manager -HR Gulf Cement Co. (India)Gulf Cement Co. (India) Feb 2013 - Jul 2014 · 1 yr 6 mosFeb 2013 - Jul 2014 · 1 yr 6 mos New Delhi Area, IndiaNew Delhi Area, India Sr. Manager_HRSr. Manager_HR GVR Infra Projects LLC logo Manager-HRManager-HR GVR Infra Projects LLCGVR Infra Projects LLC Apr 2011 - Feb 2013 · 1 yr 11 mosApr 2011 - Feb 2013 · 1 yr 11 mos Mgr-HRMgr-HR Show all 7 experiences EducationEducation CBSE DelhiCBSE Delhi Master's degree, HRMaster's degree, HR 1998 - 19991998 - 1999 Activities and societies: Debate TeamActivities and societies: Debate Team CBSE DelhiCBSE Delhi Bachelor of Arts (B.A.), English/Language Arts Teacher EducationBachelor of Arts (B.A.), English/Language Arts Teacher Education Activities and societies: Debate teamActivities and societies: Debate team VolunteeringVolunteering HRHR DSCDSC May 2005 - Apr 2011 · 6 yrsMay 2005 - Apr 2011 · 6 yrs Social Services\""
      ]
     },
     "execution_count": 14,
     "metadata": {},
     "output_type": "execute_result"
    }
   ],
   "source": [
    "data2"
   ]
  },
  {
   "cell_type": "code",
   "execution_count": null,
   "metadata": {},
   "outputs": [],
   "source": []
  }
 ],
 "metadata": {
  "kernelspec": {
   "display_name": "Python 3.7.13 ('pytorch')",
   "language": "python",
   "name": "python3"
  },
  "language_info": {
   "codemirror_mode": {
    "name": "ipython",
    "version": 3
   },
   "file_extension": ".py",
   "mimetype": "text/x-python",
   "name": "python",
   "nbconvert_exporter": "python",
   "pygments_lexer": "ipython3",
   "version": "3.7.13"
  },
  "orig_nbformat": 4,
  "vscode": {
   "interpreter": {
    "hash": "7a3f2c80ea66c24fd76a9a71a25558c52fee05a6e45793e0a26745819a7b6b51"
   }
  }
 },
 "nbformat": 4,
 "nbformat_minor": 2
}
