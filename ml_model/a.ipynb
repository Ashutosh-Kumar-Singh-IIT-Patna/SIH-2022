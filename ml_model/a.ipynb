{
 "cells": [
  {
   "cell_type": "code",
   "execution_count": 18,
   "metadata": {},
   "outputs": [],
   "source": [
    "import pandas as pd\n"
   ]
  },
  {
   "cell_type": "code",
   "execution_count": 19,
   "metadata": {},
   "outputs": [],
   "source": [
    "df = pd.DataFrame(pd.read_csv('UpdatedResumeDataSet.csv', encoding='utf-8'))"
   ]
  },
  {
   "cell_type": "code",
   "execution_count": 20,
   "metadata": {},
   "outputs": [],
   "source": [
    "data1 = df['Resume'][264]"
   ]
  },
  {
   "cell_type": "code",
   "execution_count": 21,
   "metadata": {},
   "outputs": [
    {
     "data": {
      "text/plain": [
       "\"Skill Sets: â\\x80¢ Multi-tasking â\\x80¢ Collaborative â\\x80¢ Optimistic Thinking â\\x80¢ Effective teamleader/team trainer â\\x80¢ Visualizing the work which is to be done â\\x80¢ Good Grip on Communication â\\x80¢ Various Languages Known â\\x80¢ Value loyalty and is loyal towards my responsibility â\\x80¢ Compatible working with MS officeEducation Details \\r\\nJanuary 2017 MBA Marketing & Sales  Amity University\\r\\nJanuary 2015 Bsc. Hotel Management  P.S.G College of arts and sciences\\r\\n    Institution/University/Board\\r\\nSales Manager \\r\\n\\r\\nSales and Marketing Management\\r\\nSkill Details \\r\\nMS office- Exprience - 4 monthsCompany Details \\r\\ncompany - Cohesive Technologies\\r\\ndescription - I am responsible for Managing company's business in Mumbai area,along with branch Manager,I follow up leads given to me by my corporate office, I meet them personally give them the best solutions and product suitable for their business, I even generate leads by myself by calling up the clients through cold call,My job is like an entrepreneur here, which basically involves managing a small business.\""
      ]
     },
     "execution_count": 21,
     "metadata": {},
     "output_type": "execute_result"
    }
   ],
   "source": [
    "data1"
   ]
  },
  {
   "cell_type": "code",
   "execution_count": 22,
   "metadata": {},
   "outputs": [],
   "source": [
    "liststr = list(data1)\n",
    "for i in range(0, len(liststr)):\n",
    "    if liststr[i] == '\\n':\n",
    "        liststr[i] = ' '"
   ]
  },
  {
   "cell_type": "code",
   "execution_count": 23,
   "metadata": {},
   "outputs": [],
   "source": [
    "data2 = ''.join(liststr)"
   ]
  },
  {
   "cell_type": "code",
   "execution_count": 24,
   "metadata": {},
   "outputs": [
    {
     "data": {
      "text/plain": [
       "\"Skill Sets: â\\x80¢ Multi-tasking â\\x80¢ Collaborative â\\x80¢ Optimistic Thinking â\\x80¢ Effective teamleader/team trainer â\\x80¢ Visualizing the work which is to be done â\\x80¢ Good Grip on Communication â\\x80¢ Various Languages Known â\\x80¢ Value loyalty and is loyal towards my responsibility â\\x80¢ Compatible working with MS officeEducation Details \\r January 2017 MBA Marketing & Sales  Amity University\\r January 2015 Bsc. Hotel Management  P.S.G College of arts and sciences\\r     Institution/University/Board\\r Sales Manager \\r \\r Sales and Marketing Management\\r Skill Details \\r MS office- Exprience - 4 monthsCompany Details \\r company - Cohesive Technologies\\r description - I am responsible for Managing company's business in Mumbai area,along with branch Manager,I follow up leads given to me by my corporate office, I meet them personally give them the best solutions and product suitable for their business, I even generate leads by myself by calling up the clients through cold call,My job is like an entrepreneur here, which basically involves managing a small business.\""
      ]
     },
     "execution_count": 24,
     "metadata": {},
     "output_type": "execute_result"
    }
   ],
   "source": [
    "data2"
   ]
  },
  {
   "cell_type": "code",
   "execution_count": null,
   "metadata": {},
   "outputs": [],
   "source": []
  }
 ],
 "metadata": {
  "kernelspec": {
   "display_name": "Python 3.7.13 ('pytorch')",
   "language": "python",
   "name": "python3"
  },
  "language_info": {
   "codemirror_mode": {
    "name": "ipython",
    "version": 3
   },
   "file_extension": ".py",
   "mimetype": "text/x-python",
   "name": "python",
   "nbconvert_exporter": "python",
   "pygments_lexer": "ipython3",
   "version": "3.7.13"
  },
  "orig_nbformat": 4,
  "vscode": {
   "interpreter": {
    "hash": "7a3f2c80ea66c24fd76a9a71a25558c52fee05a6e45793e0a26745819a7b6b51"
   }
  }
 },
 "nbformat": 4,
 "nbformat_minor": 2
}
