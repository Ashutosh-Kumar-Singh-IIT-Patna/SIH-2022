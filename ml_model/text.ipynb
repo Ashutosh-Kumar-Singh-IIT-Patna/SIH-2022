{
 "cells": [
  {
   "cell_type": "code",
   "execution_count": 8,
   "metadata": {},
   "outputs": [],
   "source": [
    "import pandas as pd\n"
   ]
  },
  {
   "cell_type": "code",
   "execution_count": 9,
   "metadata": {},
   "outputs": [],
   "source": [
    "df = pd.DataFrame(pd.read_excel('try.xlsx'))"
   ]
  },
  {
   "cell_type": "code",
   "execution_count": 10,
   "metadata": {},
   "outputs": [],
   "source": [
    "data1 = df['Resume'][3]"
   ]
  },
  {
   "cell_type": "code",
   "execution_count": 11,
   "metadata": {},
   "outputs": [
    {
     "data": {
      "text/plain": [
       "'Effective personal trainer with over 10 years of experience helping\\nclients achieve their health goals. Seeking to join a team of seasoned\\ntrainers at In-Shape to encourage, motivate, and shift perspectives on\\nfitness, health, and wellness.\\nWORK EXPERIENCE\\nPersonal Trainer\\nSvetness\\n2016 - current / San Francisco,CA\\nDesigned and instructed 8 group Spin and Zumba classes per week\\nCreated specialized meal and accountability plans on social media\\nfor 18 premium members\\nDeveloped and customized fitness plans for 36 long-term clients\\nSupervised and administered 28% of the gym\\'s physical\\nassessments\\nVoted \"Top Instructor\" in 2019 for helping clients achieve weight\\nloss\\nPersonal Trainer\\n9Round\\n2012 - 2016 / San Francisco,CA\\nDeveloped 77 fitness courses ranging from Cross Fit to Pilates\\nConducted 11 orientations yearly for new members, providing a\\ntour of the gym and overviewing programs\\nTracked 37 clients\\' progress and discussed program and nutrition to\\nassist with accountability\\nAssessed equipment for damage, handled light maintenance and\\nplaced orders for new equipment as needed\\nPersonal Trainer\\nCrunch Fitness\\n2010 - 2012 / San Francisco,CA\\nCoached efficient and safe workouts for 112 short-term clients\\nrecovering from injuries\\nCollaborated with a team of 4 to create and implement 13 fitness\\nprograms designed for weight loss\\nPrepared and cleaned 3 workout studios for group classes, signed\\nmembers into class, and tracked class attendance'"
      ]
     },
     "execution_count": 11,
     "metadata": {},
     "output_type": "execute_result"
    }
   ],
   "source": [
    "data1"
   ]
  },
  {
   "cell_type": "code",
   "execution_count": 12,
   "metadata": {},
   "outputs": [],
   "source": [
    "liststr = list(data1)\n",
    "for i in range(0, len(liststr)):\n",
    "    if liststr[i] == '\\n':\n",
    "        liststr[i] = ' '"
   ]
  },
  {
   "cell_type": "code",
   "execution_count": 13,
   "metadata": {},
   "outputs": [],
   "source": [
    "data2 = ''.join(liststr)"
   ]
  },
  {
   "cell_type": "code",
   "execution_count": 14,
   "metadata": {},
   "outputs": [
    {
     "data": {
      "text/plain": [
       "'Effective personal trainer with over 10 years of experience helping clients achieve their health goals. Seeking to join a team of seasoned trainers at In-Shape to encourage, motivate, and shift perspectives on fitness, health, and wellness. WORK EXPERIENCE Personal Trainer Svetness 2016 - current / San Francisco,CA Designed and instructed 8 group Spin and Zumba classes per week Created specialized meal and accountability plans on social media for 18 premium members Developed and customized fitness plans for 36 long-term clients Supervised and administered 28% of the gym\\'s physical assessments Voted \"Top Instructor\" in 2019 for helping clients achieve weight loss Personal Trainer 9Round 2012 - 2016 / San Francisco,CA Developed 77 fitness courses ranging from Cross Fit to Pilates Conducted 11 orientations yearly for new members, providing a tour of the gym and overviewing programs Tracked 37 clients\\' progress and discussed program and nutrition to assist with accountability Assessed equipment for damage, handled light maintenance and placed orders for new equipment as needed Personal Trainer Crunch Fitness 2010 - 2012 / San Francisco,CA Coached efficient and safe workouts for 112 short-term clients recovering from injuries Collaborated with a team of 4 to create and implement 13 fitness programs designed for weight loss Prepared and cleaned 3 workout studios for group classes, signed members into class, and tracked class attendance'"
      ]
     },
     "execution_count": 14,
     "metadata": {},
     "output_type": "execute_result"
    }
   ],
   "source": [
    "data2"
   ]
  },
  {
   "cell_type": "code",
   "execution_count": null,
   "metadata": {},
   "outputs": [],
   "source": []
  }
 ],
 "metadata": {
  "kernelspec": {
   "display_name": "Python 3.7.13 ('pytorch')",
   "language": "python",
   "name": "python3"
  },
  "language_info": {
   "codemirror_mode": {
    "name": "ipython",
    "version": 3
   },
   "file_extension": ".py",
   "mimetype": "text/x-python",
   "name": "python",
   "nbconvert_exporter": "python",
   "pygments_lexer": "ipython3",
   "version": "3.7.13"
  },
  "orig_nbformat": 4,
  "vscode": {
   "interpreter": {
    "hash": "7a3f2c80ea66c24fd76a9a71a25558c52fee05a6e45793e0a26745819a7b6b51"
   }
  }
 },
 "nbformat": 4,
 "nbformat_minor": 2
}
