{
 "cells": [
  {
   "cell_type": "code",
   "execution_count": 1,
   "metadata": {},
   "outputs": [],
   "source": [
    "import pandas as pd\n"
   ]
  },
  {
   "cell_type": "code",
   "execution_count": 2,
   "metadata": {},
   "outputs": [],
   "source": [
    "df = pd.DataFrame(pd.read_excel('try.xlsx'))"
   ]
  },
  {
   "cell_type": "code",
   "execution_count": 3,
   "metadata": {},
   "outputs": [],
   "source": [
    "data1 = df['Resume'][4]"
   ]
  },
  {
   "cell_type": "code",
   "execution_count": 4,
   "metadata": {},
   "outputs": [
    {
     "data": {
      "text/plain": [
       "'Do everything with serious-minded. Motivated leader with strong organizational and prioritization abilities during school\\nlife. Excellent communication and time management skills. Handle tasks with accuracy and efficiency and able to learn new\\ntasks quickly. Passionate, hard working,friendly and enthusiastic, with a drive for excellence.Player & Captain\\nCore player of the varsity team\\nAssisting in organizing daily training\\nProviding training for two trainees\\nResponsible for teacher\\'s badminton game as umpire\\nClerk\\nHosting regularly meetings once per month\\nOrganizing meetings convened\\nOrganizing \"clear your plate\" campaign andactivities\\nEvaluating new members\\nParticipating variety show\\nEnterprise Risk Management Services Department Intern\\nUse computers for various applications, such as database management or word processing.\\nMaintain, and enter intormation into databases\\nResearching information.\\nProofreading working papers\\nReview work done by others to check tor correct spelling and grammar, ensure that company format policies are\\nfollowed, and recommend revisions.\\nLeader of P.E. Dep\\nResponsible for the sports events in the school of Business Administration.\\nAthlete selection and training.\\nHolding schools\\' games.\\nOrganizing university games.\\nOrganizing daily exercise.\\nResponsible for the parties of school league committee twice per semester.\\nHelping other department\\'s job.\\nParticipamt\\nIdentity issues tor research and analysis.\\nDevelop and test theories, using intormation from interviews, newspapers, periodicals, historical papers, polls, and/or\\nstatistical sources.\\nCollect, analyze, and interpret data such as election results and public opinion surveys; report on finding,\\nrecommendations, and conclusions.\\nDelivering questionnaires in parking and gas station to collect data\\nCoordinating with group members and organizers\\n.Involving in preliminary contest, the semifinal and final competitions\\nAttendant/ Investigator\\nAssisting professor Li do the research\\nConsulting with local supermarkets\\nPersuading the staff accept interview\\nFace to face interview supermarket staff\\nAssisting market staff to complete questionnaires\\nVolunteer\\n.Coordinate communication between scholars, hotel staf, or host.\\nPackage and classify conference materials before the conference\\nHelping seholars to check-in at hotel and conference sit\\nDirecting and assisting scholars during conference\\nGuiding scholars have trips after conference\\nDelivering information about seeing-off'"
      ]
     },
     "execution_count": 4,
     "metadata": {},
     "output_type": "execute_result"
    }
   ],
   "source": [
    "data1"
   ]
  },
  {
   "cell_type": "code",
   "execution_count": 5,
   "metadata": {},
   "outputs": [],
   "source": [
    "liststr = list(data1)\n",
    "for i in range(0, len(liststr)):\n",
    "    if liststr[i] == '\\n':\n",
    "        liststr[i] = ' '"
   ]
  },
  {
   "cell_type": "code",
   "execution_count": 6,
   "metadata": {},
   "outputs": [],
   "source": [
    "data2 = ''.join(liststr)"
   ]
  },
  {
   "cell_type": "code",
   "execution_count": 7,
   "metadata": {},
   "outputs": [
    {
     "data": {
      "text/plain": [
       "'Do everything with serious-minded. Motivated leader with strong organizational and prioritization abilities during school life. Excellent communication and time management skills. Handle tasks with accuracy and efficiency and able to learn new tasks quickly. Passionate, hard working,friendly and enthusiastic, with a drive for excellence.Player & Captain Core player of the varsity team Assisting in organizing daily training Providing training for two trainees Responsible for teacher\\'s badminton game as umpire Clerk Hosting regularly meetings once per month Organizing meetings convened Organizing \"clear your plate\" campaign andactivities Evaluating new members Participating variety show Enterprise Risk Management Services Department Intern Use computers for various applications, such as database management or word processing. Maintain, and enter intormation into databases Researching information. Proofreading working papers Review work done by others to check tor correct spelling and grammar, ensure that company format policies are followed, and recommend revisions. Leader of P.E. Dep Responsible for the sports events in the school of Business Administration. Athlete selection and training. Holding schools\\' games. Organizing university games. Organizing daily exercise. Responsible for the parties of school league committee twice per semester. Helping other department\\'s job. Participamt Identity issues tor research and analysis. Develop and test theories, using intormation from interviews, newspapers, periodicals, historical papers, polls, and/or statistical sources. Collect, analyze, and interpret data such as election results and public opinion surveys; report on finding, recommendations, and conclusions. Delivering questionnaires in parking and gas station to collect data Coordinating with group members and organizers .Involving in preliminary contest, the semifinal and final competitions Attendant/ Investigator Assisting professor Li do the research Consulting with local supermarkets Persuading the staff accept interview Face to face interview supermarket staff Assisting market staff to complete questionnaires Volunteer .Coordinate communication between scholars, hotel staf, or host. Package and classify conference materials before the conference Helping seholars to check-in at hotel and conference sit Directing and assisting scholars during conference Guiding scholars have trips after conference Delivering information about seeing-off'"
      ]
     },
     "execution_count": 7,
     "metadata": {},
     "output_type": "execute_result"
    }
   ],
   "source": [
    "data2"
   ]
  },
  {
   "cell_type": "code",
   "execution_count": null,
   "metadata": {},
   "outputs": [],
   "source": []
  }
 ],
 "metadata": {
  "kernelspec": {
   "display_name": "Python 3.7.13 ('pytorch')",
   "language": "python",
   "name": "python3"
  },
  "language_info": {
   "codemirror_mode": {
    "name": "ipython",
    "version": 3
   },
   "file_extension": ".py",
   "mimetype": "text/x-python",
   "name": "python",
   "nbconvert_exporter": "python",
   "pygments_lexer": "ipython3",
   "version": "3.7.13"
  },
  "orig_nbformat": 4,
  "vscode": {
   "interpreter": {
    "hash": "7a3f2c80ea66c24fd76a9a71a25558c52fee05a6e45793e0a26745819a7b6b51"
   }
  }
 },
 "nbformat": 4,
 "nbformat_minor": 2
}
