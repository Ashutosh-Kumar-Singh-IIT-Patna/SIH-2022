{
 "cells": [
  {
   "cell_type": "code",
   "execution_count": 1,
   "metadata": {},
   "outputs": [],
   "source": [
    "import pandas as pd\n"
   ]
  },
  {
   "cell_type": "code",
   "execution_count": 2,
   "metadata": {},
   "outputs": [],
   "source": [
    "df = pd.DataFrame(pd.read_excel('try.xlsx'))"
   ]
  },
  {
   "cell_type": "code",
   "execution_count": 3,
   "metadata": {},
   "outputs": [],
   "source": [
    "data1 = df['Resume'][2]"
   ]
  },
  {
   "cell_type": "code",
   "execution_count": 4,
   "metadata": {},
   "outputs": [
    {
     "data": {
      "text/plain": [
       "'Results-driven corporate lawyer with 8+ years of experience ensuring the legality of commercial transactions. Adept at drafting and reviewing policies, and client negotiation. Possess a J.D. from Duke Law School and am a member of the New York State Bar in good standing. Achieved advantageous settlements in 90% of cases.\\n\\nBar Admissions\\nNew York\\n\\nDecember 2013\\n\\nEducation\\nDuke Law School,\\n\\nJ.D., 2013\\n\\nB.A. Political Science\\n\\nUniversity of Texas,  2010\\n\\nExperience\\nGeneral Counsel\\n\\nRockford Corporation, New York, NY  /  September 2017 – Present\\n\\nDefine and develop legal policies and procedures while advising on all major business transactions\\nDraft and review contracts and internal policies in accordance with all applicable regulations\\nNegotiate with opposing parties to avoid litigation and reach resolutions. Have thus far overseen 20+ mediations, achieving a 90% settlement rate\\nImplemented a global intellectual property strategy over a 4-year period\\nReduced corporation’s reliance on external legal counsel, decreasing legal fees by over 60% annually\\nStaff Attorney\\n\\nBAC Corporation, New York, NY  /  January 2014 – August 2017\\n\\nAdvised executives regarding legal rights, opportunities, and obligations\\nConducted legal research and reviewed transactions to ensure maximum benefit to the company with minimal risk\\nDrafted and renewed agreements on a weekly basis for product distribution, supply, licensing, and advertising\\nMonitored changes to employment law at federal, state, and national levels\\nMaintained a 95% satisfaction rate with company executives\\nSkills\\nCorporate law\\nExcellent oral and written communication\\nLegal research\\nTime management\\nCritical thinking\\nNegotiation & settlement\\nDocumentation\\nMediation'"
      ]
     },
     "execution_count": 4,
     "metadata": {},
     "output_type": "execute_result"
    }
   ],
   "source": [
    "data1"
   ]
  },
  {
   "cell_type": "code",
   "execution_count": 5,
   "metadata": {},
   "outputs": [],
   "source": [
    "liststr = list(data1)\n",
    "for i in range(0, len(liststr)):\n",
    "    if liststr[i] == '\\n':\n",
    "        liststr[i] = ' '"
   ]
  },
  {
   "cell_type": "code",
   "execution_count": 6,
   "metadata": {},
   "outputs": [],
   "source": [
    "data2 = ''.join(liststr)"
   ]
  },
  {
   "cell_type": "code",
   "execution_count": 7,
   "metadata": {},
   "outputs": [
    {
     "data": {
      "text/plain": [
       "'Results-driven corporate lawyer with 8+ years of experience ensuring the legality of commercial transactions. Adept at drafting and reviewing policies, and client negotiation. Possess a J.D. from Duke Law School and am a member of the New York State Bar in good standing. Achieved advantageous settlements in 90% of cases.  Bar Admissions New York  December 2013  Education Duke Law School,  J.D., 2013  B.A. Political Science  University of Texas,  2010  Experience General Counsel  Rockford Corporation, New York, NY  /  September 2017 – Present  Define and develop legal policies and procedures while advising on all major business transactions Draft and review contracts and internal policies in accordance with all applicable regulations Negotiate with opposing parties to avoid litigation and reach resolutions. Have thus far overseen 20+ mediations, achieving a 90% settlement rate Implemented a global intellectual property strategy over a 4-year period Reduced corporation’s reliance on external legal counsel, decreasing legal fees by over 60% annually Staff Attorney  BAC Corporation, New York, NY  /  January 2014 – August 2017  Advised executives regarding legal rights, opportunities, and obligations Conducted legal research and reviewed transactions to ensure maximum benefit to the company with minimal risk Drafted and renewed agreements on a weekly basis for product distribution, supply, licensing, and advertising Monitored changes to employment law at federal, state, and national levels Maintained a 95% satisfaction rate with company executives Skills Corporate law Excellent oral and written communication Legal research Time management Critical thinking Negotiation & settlement Documentation Mediation'"
      ]
     },
     "execution_count": 7,
     "metadata": {},
     "output_type": "execute_result"
    }
   ],
   "source": [
    "data2"
   ]
  },
  {
   "cell_type": "code",
   "execution_count": null,
   "metadata": {},
   "outputs": [],
   "source": []
  }
 ],
 "metadata": {
  "kernelspec": {
   "display_name": "Python 3.7.13 ('pytorch')",
   "language": "python",
   "name": "python3"
  },
  "language_info": {
   "codemirror_mode": {
    "name": "ipython",
    "version": 3
   },
   "file_extension": ".py",
   "mimetype": "text/x-python",
   "name": "python",
   "nbconvert_exporter": "python",
   "pygments_lexer": "ipython3",
   "version": "3.7.13"
  },
  "orig_nbformat": 4,
  "vscode": {
   "interpreter": {
    "hash": "7a3f2c80ea66c24fd76a9a71a25558c52fee05a6e45793e0a26745819a7b6b51"
   }
  }
 },
 "nbformat": 4,
 "nbformat_minor": 2
}
